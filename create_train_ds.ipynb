{
 "cells": [
  {
   "cell_type": "code",
   "execution_count": 50,
   "id": "71a0a288-530c-4689-bfae-d98ffea83b81",
   "metadata": {},
   "outputs": [],
   "source": [
    "from pager import PageModel, PageModelUnit\n",
    "from pager.page_model.sub_models import PhisicalModel, WordsModel, WordsAndStylesModel, SpGraph4NModel\n",
    "from pager.page_model.sub_models.dtype import Style, StyleWord"
   ]
  },
  {
   "cell_type": "code",
   "execution_count": 48,
   "id": "f2a164e1-7732-425d-9739-3a30014b2d84",
   "metadata": {},
   "outputs": [],
   "source": [
    "blocks_model = PhisicalModel()\n",
    "words_model = WordsModel()\n",
    "words_and_styles_model = WordsAndStylesModel()\n",
    "sp_model = SpGraph4NModel()"
   ]
  },
  {
   "cell_type": "code",
   "execution_count": 47,
   "id": "86743ea0-753f-44d5-af54-7d122149af68",
   "metadata": {},
   "outputs": [],
   "source": [
    "name = \"/home/daniil/project/train/PMC1079850_00000.jpg.json\"\n",
    "blocks_model.read_from_file(name)\n",
    "with open(name, \"r\") as f:\n",
    "    js = json.load(f)\n",
    "words_model.set_words_from_dict(js[\"additional_info\"][\"words\"])"
   ]
  },
  {
   "cell_type": "code",
   "execution_count": 38,
   "id": "ba40efbe-fd59-4cd0-8ac8-2127f59be69e",
   "metadata": {},
   "outputs": [],
   "source": [
    "words_and_styles_model."
   ]
  },
  {
   "cell_type": "code",
   "execution_count": 51,
   "id": "a2bc8513-bcf3-4474-85ca-814fd215675d",
   "metadata": {},
   "outputs": [
    {
     "name": "stdout",
     "output_type": "stream",
     "text": [
      "Help on class Style in module pager.page_model.sub_models.dtype.style:\n",
      "\n",
      "class Style(builtins.object)\n",
      " |  Style(dict_style)\n",
      " |\n",
      " |  Methods defined here:\n",
      " |\n",
      " |  __init__(self, dict_style)\n",
      " |      Initialize self.  See help(type(self)) for accurate signature.\n",
      " |\n",
      " |  set_color(self, RGB: Tuple[int])\n",
      " |\n",
      " |  set_font_type(self, font_type: str)\n",
      " |\n",
      " |  set_italic(self, italic: bool)\n",
      " |\n",
      " |  set_label(self, label: str)\n",
      " |\n",
      " |  set_size(self, size: float)\n",
      " |\n",
      " |  set_width(self, width: float)\n",
      " |\n",
      " |  to_dict(self) -> Dict\n",
      " |\n",
      " |  ----------------------------------------------------------------------\n",
      " |  Data descriptors defined here:\n",
      " |\n",
      " |  __dict__\n",
      " |      dictionary for instance variables\n",
      " |\n",
      " |  __weakref__\n",
      " |      list of weak references to the object\n",
      "\n"
     ]
    }
   ],
   "source": [
    "def read_file(json_, img_):\n",
    "    return page\n",
    "\n",
    "pln_ds = PubLayNetDataset(r\"/home/daniil/program/dataset/publaynet/\", \n",
    "                          r\"/home/daniil/program/dataset/tmp_publaynet/\")\n",
    "\n",
    "list_file = pln_ds.get_list_file_name()\n",
    "list_file[:5]\n",
    "page = pln_ds.read_file(list_file[2], lambda json_, img_: ...)\n"
   ]
  },
  {
   "cell_type": "markdown",
   "id": "fe465379-a1a2-4691-93df-99c0b72ad199",
   "metadata": {},
   "source": [
    "### План создания датасета\n",
    "1. Получить нужные json'ы из большого json'a (блоки с именами)\n",
    "2. Пробежаться по этим json'м и добавить туда: слова и вектора стилей\n",
    "3. Сделать свой датасет, который имеет граф (нужная мне структура) и класс ребер (1 - есть ребро, 0 - нет)\n",
    "\n",
    "1 и 2 делаются за раз"
   ]
  },
  {
   "cell_type": "code",
   "execution_count": 1,
   "id": "cf78d212-b8b0-4266-b7a1-17613a3ec457",
   "metadata": {},
   "outputs": [
    {
     "ename": "NameError",
     "evalue": "name 'PubLayNetDataset' is not defined",
     "output_type": "error",
     "traceback": [
      "\u001b[0;31m---------------------------------------------------------------------------\u001b[0m",
      "\u001b[0;31mNameError\u001b[0m                                 Traceback (most recent call last)",
      "Cell \u001b[0;32mIn[1], line 11\u001b[0m\n\u001b[1;32m      6\u001b[0m     \u001b[38;5;28;01mreturn\u001b[39;00m page\n\u001b[1;32m      8\u001b[0m \u001b[38;5;28;01mif\u001b[39;00m \u001b[38;5;18m__name__\u001b[39m \u001b[38;5;241m==\u001b[39m \u001b[38;5;124m\"\u001b[39m\u001b[38;5;124m__main__\u001b[39m\u001b[38;5;124m\"\u001b[39m:\n\u001b[0;32m---> 11\u001b[0m     pln_ds \u001b[38;5;241m=\u001b[39m \u001b[43mPubLayNetDataset\u001b[49m(\u001b[38;5;124mr\u001b[39m\u001b[38;5;124m\"\u001b[39m\u001b[38;5;124m/home/daniil/program/dataset/publaynet/\u001b[39m\u001b[38;5;124m\"\u001b[39m, \n\u001b[1;32m     12\u001b[0m                                   NAME_DATASET_IMAGE_JSONS)\n\u001b[1;32m     14\u001b[0m list_file \u001b[38;5;241m=\u001b[39m pln_ds\u001b[38;5;241m.\u001b[39mget_list_file_name()\n\u001b[1;32m     15\u001b[0m list_file[:\u001b[38;5;241m5\u001b[39m]\n",
      "\u001b[0;31mNameError\u001b[0m: name 'PubLayNetDataset' is not defined"
     ]
    }
   ],
   "source": []
  },
  {
   "cell_type": "code",
   "execution_count": null,
   "id": "629095d6-0c31-49f7-be8e-ea3aabdd4e95",
   "metadata": {},
   "outputs": [],
   "source": []
  },
  {
   "cell_type": "code",
   "execution_count": null,
   "id": "cb1a929e-31ee-4979-ad17-6f929f4bbe8e",
   "metadata": {},
   "outputs": [],
   "source": []
  }
 ],
 "metadata": {
  "kernelspec": {
   "display_name": "Python 3 (ipykernel)",
   "language": "python",
   "name": "python3"
  },
  "language_info": {
   "codemirror_mode": {
    "name": "ipython",
    "version": 3
   },
   "file_extension": ".py",
   "mimetype": "text/x-python",
   "name": "python",
   "nbconvert_exporter": "python",
   "pygments_lexer": "ipython3",
   "version": "3.12.3"
  }
 },
 "nbformat": 4,
 "nbformat_minor": 5
}
