{
 "cells": [
  {
   "cell_type": "code",
   "execution_count": 17,
   "id": "3a6380b7-19e3-408e-8128-5a71a2a331c4",
   "metadata": {},
   "outputs": [],
   "source": [
    "import json\n",
    "from pager import PageModel, PageModelUnit, WordsAndStylesModel, SpGraph4NModel, WordsAndStylesToSpGraph4N\n",
    "from pager.page_model.sub_models.dtype import Style, StyleWord, ImageSegment"
   ]
  },
  {
   "cell_type": "code",
   "execution_count": 12,
   "id": "df9ae4fc-c093-4109-850f-a2145bf6880f",
   "metadata": {},
   "outputs": [],
   "source": [
    "page_model = PageModel([\n",
    "    PageModelUnit(\"words_and_styles\", sub_model=WordsAndStylesModel(), extractors=[], converters={}),\n",
    "    PageModelUnit(\"graph\", sub_model=SpGraph4NModel(), extractors=[],  converters={\"words_and_styles\": WordsAndStylesToSpGraph4N()}),\n",
    "])"
   ]
  },
  {
   "cell_type": "code",
   "execution_count": 13,
   "id": "f9cc5602-4696-4bac-9f18-f29f72562ddf",
   "metadata": {},
   "outputs": [],
   "source": [
    "with open(\"PMC3810709_00003.jpg.json\", \"r\") as f:\n",
    "    info_img = json.load(f)"
   ]
  },
  {
   "cell_type": "code",
   "execution_count": 14,
   "id": "bf809833-2715-46be-96fd-3ffded648e8e",
   "metadata": {},
   "outputs": [],
   "source": [
    "publaynet_rez = info_img[\"blocks\"]\n",
    "pager_rez = info_img[\"additional_info\"]"
   ]
  },
  {
   "cell_type": "code",
   "execution_count": 15,
   "id": "c747bc63-881d-4cfb-96ea-bbb2d6ec87a4",
   "metadata": {},
   "outputs": [
    {
     "name": "stdout",
     "output_type": "stream",
     "text": [
      "{'x_top_left': 59, 'y_top_left': 84, 'width': 473, 'height': 17, 'label': 1}\n",
      "words:\n",
      " {'content': 'Modeling', 'style_id': 0, 'segment': {'x_top_left': 403, 'x_bottom_right': 440, 'y_top_left': 60, 'y_bottom_right': 69}, 'type_align': None}\n",
      "styles:\n",
      " {'font2vec': [0.6527233115468409, 0.9803921568627452, 0.84568097509274, 0.07469064021398707, 0.8456809750927399, 0.6666666666666666, 0.2222222222222222], 'id': 0}\n"
     ]
    }
   ],
   "source": [
    "print(publaynet_rez[0])\n",
    "print(\"words:\\n\", pager_rez[\"words\"][0])\n",
    "print(\"styles:\\n\", pager_rez[\"styles\"][0])"
   ]
  },
  {
   "cell_type": "code",
   "execution_count": null,
   "id": "1043fd0b-798f-42c3-819f-130b996b89a5",
   "metadata": {},
   "outputs": [],
   "source": []
  },
  {
   "cell_type": "code",
   "execution_count": 18,
   "id": "699ccbed-d2c3-4b2a-81e7-bc6e3510c45b",
   "metadata": {},
   "outputs": [],
   "source": [
    "page_model.from_dict(pager_rez)\n",
    "page_model.extract()\n",
    "# page_model.to_dict()"
   ]
  },
  {
   "cell_type": "code",
   "execution_count": 25,
   "id": "580eadde-20c7-48d6-b0f2-5a660b800afc",
   "metadata": {},
   "outputs": [
    {
     "data": {
      "text/plain": [
       "False"
      ]
     },
     "execution_count": 25,
     "metadata": {},
     "output_type": "execute_result"
    }
   ],
   "source": [
    "blocks = [ImageSegment(dict_p_size=bl) for bl in publaynet_rez]\n",
    "page_model.page_units[0].sub_model.words[1].segment.is_intersection(blocks[1])"
   ]
  },
  {
   "cell_type": "code",
   "execution_count": 32,
   "id": "5a00951a-d9db-4d19-b61b-828785ff993d",
   "metadata": {},
   "outputs": [
    {
     "data": {
      "text/plain": [
       "{'x_top_left': 478,\n",
       " 'x_bottom_right': 509,\n",
       " 'y_top_left': 49,\n",
       " 'y_bottom_right': 77}"
      ]
     },
     "execution_count": 32,
     "metadata": {},
     "output_type": "execute_result"
    }
   ],
   "source": [
    "page_model.page_units[0].sub_model.words[2].segment.get_segment_2p()"
   ]
  },
  {
   "cell_type": "code",
   "execution_count": 29,
   "id": "9f806441-dc1d-4590-b1f0-7762a5d9eb1e",
   "metadata": {},
   "outputs": [
    {
     "data": {
      "text/plain": [
       "{'x_top_left': 59,\n",
       " 'x_bottom_right': 532,\n",
       " 'y_top_left': 84,\n",
       " 'y_bottom_right': 101}"
      ]
     },
     "execution_count": 29,
     "metadata": {},
     "output_type": "execute_result"
    }
   ],
   "source": [
    "blocks[0].get_segment_2p()"
   ]
  },
  {
   "cell_type": "code",
   "execution_count": 33,
   "id": "14694e89-009b-4011-baef-e67b82b741e3",
   "metadata": {},
   "outputs": [],
   "source": [
    "import matplotlib.pyplot as plt"
   ]
  },
  {
   "cell_type": "code",
   "execution_count": 35,
   "id": "3eb05373-7a4f-42da-bcea-a24e44642024",
   "metadata": {},
   "outputs": [
    {
     "data": {
      "image/png": "[encoded data removed]",
      "text/plain": [
       "<Figure size 640x480 with 1 Axes>"
      ]
     },
     "metadata": {},
     "output_type": "display_data"
    }
   ],
   "source": [
    "for seg_w in [w.segment for w in page_model.page_units[0].sub_model.words]:\n",
    "    seg_w.plot()\n",
    "\n",
    "for b in blocks:\n",
    "    b.plot(color=\"r\")"
   ]
  },
  {
   "cell_type": "code",
   "execution_count": 39,
   "id": "53a08570-3f5f-44a7-92e6-6ec367150a7a",
   "metadata": {},
   "outputs": [
    {
     "data": {
      "text/plain": [
       "['Modeling',\n",
       " 'hanes',\n",
       " 'conics',\n",
       " 'вт',\n",
       " 'Sys',\n",
       " 'LS',\n",
       " 'et',\n",
       " 'a',\n",
       " 'lua',\n",
       " 'aed',\n",
       " 'acral',\n",
       " 'Tab',\n",
       " 'боли',\n",
       " 'erm,',\n",
       " 'с',\n",
       " '‘ana',\n",
       " 'Pe',\n",
       " 'Ti',\n",
       " 'ml',\n",
       " 'cing',\n",
       " 'psi',\n",
       " '7',\n",
       " 'с',\n",
       " 'Min',\n",
       " '01',\n",
       " 'sg',\n",
       " 'nt',\n",
       " 'ec',\n",
       " 'wr',\n",
       " 'soe',\n",
       " 'с',\n",
       " 'ooo',\n",
       " '0.071',\n",
       " 'a',\n",
       " 'mse',\n",
       " 'у',\n",
       " 'Са',\n",
       " 'ne',\n",
       " 'nan',\n",
       " 'me',\n",
       " '+',\n",
       " 'у',\n",
       " 'ocr,',\n",
       " 'Camarine',\n",
       " 'So',\n",
       " 'Корана',\n",
       " 'фм',\n",
       " 'от',\n",
       " 'apt',\n",
       " '..',\n",
       " 'pear',\n",
       " 'Fe',\n",
       " 'faa',\n",
       " 'у',\n",
       " 'Vath',\n",
       " '2012',\n",
       " 'Tet',\n",
       " 'a',\n",
       " 'epi',\n",
       " 'i',\n",
       " '{©2012',\n",
       " 'The',\n",
       " 'Ans',\n",
       " 'до',\n",
       " 'АННЫ',\n",
       " 'Бо',\n",
       " '©',\n",
       " 'В',\n",
       " 'Бодо',\n",
       " 'Бобер.',\n",
       " 'sma',\n",
       " 'of',\n",
       " 'pl',\n",
       " 'Bolg',\n",
       " '8',\n",
       " '880']"
      ]
     },
     "execution_count": 39,
     "metadata": {},
     "output_type": "execute_result"
    }
   ],
   "source": [
    "[w.content for w in page_model.page_units[0].sub_model.words]"
   ]
  },
  {
   "cell_type": "code",
   "execution_count": null,
   "id": "752962af-61ff-4597-beac-165a65868111",
   "metadata": {},
   "outputs": [],
   "source": []
  }
 ],
 "metadata": {
  "kernelspec": {
   "display_name": "Python 3 (ipykernel)",
   "language": "python",
   "name": "python3"
  },
  "language_info": {
   "codemirror_mode": {
    "name": "ipython",
    "version": 3
   },
   "file_extension": ".py",
   "mimetype": "text/x-python",
   "name": "python",
   "nbconvert_exporter": "python",
   "pygments_lexer": "ipython3",
   "version": "3.12.3"
  }
 },
 "nbformat": 4,
 "nbformat_minor": 5
}
