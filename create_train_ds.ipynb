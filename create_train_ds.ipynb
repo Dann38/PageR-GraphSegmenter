{
 "cells": [
  {
   "cell_type": "code",
   "execution_count": 50,
   "id": "71a0a288-530c-4689-bfae-d98ffea83b81",
   "metadata": {},
   "outputs": [],
   "source": [
    "from pager import PageModel, PageModelUnit\n",
    "from pager.page_model.sub_models import PhisicalModel, WordsModel, WordsAndStylesModel, SpGraph4NModel\n",
    "from pager.page_model.sub_models.dtype import Style, StyleWord"
   ]
  },
  {
   "cell_type": "code",
   "execution_count": 48,
   "id": "f2a164e1-7732-425d-9739-3a30014b2d84",
   "metadata": {},
   "outputs": [],
   "source": [
    "blocks_model = PhisicalModel()\n",
    "words_model = WordsModel()\n",
    "words_and_styles_model = WordsAndStylesModel()\n",
    "sp_model = SpGraph4NModel()"
   ]
  },
  {
   "cell_type": "code",
   "execution_count": 47,
   "id": "86743ea0-753f-44d5-af54-7d122149af68",
   "metadata": {},
   "outputs": [],
   "source": [
    "name = \"/home/daniil/project/train/PMC1079850_00000.jpg.json\"\n",
    "blocks_model.read_from_file(name)\n",
    "with open(name, \"r\") as f:\n",
    "    js = json.load(f)\n",
    "words_model.set_words_from_dict(js[\"additional_info\"][\"words\"])"
   ]
  },
  {
   "cell_type": "code",
   "execution_count": 38,
   "id": "ba40efbe-fd59-4cd0-8ac8-2127f59be69e",
   "metadata": {},
   "outputs": [],
   "source": [
    "words_and_styles_model."
   ]
  },
  {
   "cell_type": "code",
   "execution_count": 51,
   "id": "a2bc8513-bcf3-4474-85ca-814fd215675d",
   "metadata": {},
   "outputs": [
    {
     "name": "stdout",
     "output_type": "stream",
     "text": [
      "Help on class Style in module pager.page_model.sub_models.dtype.style:\n",
      "\n",
      "class Style(builtins.object)\n",
      " |  Style(dict_style)\n",
      " |\n",
      " |  Methods defined here:\n",
      " |\n",
      " |  __init__(self, dict_style)\n",
      " |      Initialize self.  See help(type(self)) for accurate signature.\n",
      " |\n",
      " |  set_color(self, RGB: Tuple[int])\n",
      " |\n",
      " |  set_font_type(self, font_type: str)\n",
      " |\n",
      " |  set_italic(self, italic: bool)\n",
      " |\n",
      " |  set_label(self, label: str)\n",
      " |\n",
      " |  set_size(self, size: float)\n",
      " |\n",
      " |  set_width(self, width: float)\n",
      " |\n",
      " |  to_dict(self) -> Dict\n",
      " |\n",
      " |  ----------------------------------------------------------------------\n",
      " |  Data descriptors defined here:\n",
      " |\n",
      " |  __dict__\n",
      " |      dictionary for instance variables\n",
      " |\n",
      " |  __weakref__\n",
      " |      list of weak references to the object\n",
      "\n"
     ]
    }
   ],
   "source": []
  },
  {
   "cell_type": "code",
   "execution_count": null,
   "id": "6b37f739-9708-4e49-b9ee-0fc3f5f52997",
   "metadata": {},
   "outputs": [],
   "source": []
  },
  {
   "cell_type": "code",
   "execution_count": null,
   "id": "cf78d212-b8b0-4266-b7a1-17613a3ec457",
   "metadata": {},
   "outputs": [],
   "source": []
  },
  {
   "cell_type": "code",
   "execution_count": null,
   "id": "629095d6-0c31-49f7-be8e-ea3aabdd4e95",
   "metadata": {},
   "outputs": [],
   "source": []
  },
  {
   "cell_type": "code",
   "execution_count": null,
   "id": "cb1a929e-31ee-4979-ad17-6f929f4bbe8e",
   "metadata": {},
   "outputs": [],
   "source": []
  }
 ],
 "metadata": {
  "kernelspec": {
   "display_name": "Python 3 (ipykernel)",
   "language": "python",
   "name": "python3"
  },
  "language_info": {
   "codemirror_mode": {
    "name": "ipython",
    "version": 3
   },
   "file_extension": ".py",
   "mimetype": "text/x-python",
   "name": "python",
   "nbconvert_exporter": "python",
   "pygments_lexer": "ipython3",
   "version": "3.12.3"
  }
 },
 "nbformat": 4,
 "nbformat_minor": 5
}
